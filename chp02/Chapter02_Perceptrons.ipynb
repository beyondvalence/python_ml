{
 "cells": [
  {
   "cell_type": "code",
   "execution_count": null,
   "metadata": {
    "collapsed": false
   },
   "outputs": [],
   "source": [
    "# %load perceptron.py\n",
    "# Python ML Chapter 02\n",
    "# 20160302WED\n",
    "# Training machine learning algorithms\n",
    "# for classification\n",
    "\n",
    "import numpy as np\n",
    "\n",
    "\n",
    "class Perceptron(object):\n",
    "\t\"\"\"Perceptron classifier.\n",
    "\n",
    "\tParameters\n",
    "\t___________\n",
    "\teta : float\n",
    "\t\tLearning rate (between 0.0 and 1.0)\n",
    "\tn_iter : int\n",
    "\t\tPasses over the training dataset\n",
    "\n",
    "\tAttributes\n",
    "\t___________\n",
    "\tw_ : 1d-array\n",
    "\t\tWeights after fitting\n",
    "\terrors_ : list\n",
    "\t\tNumber of misclassifications in every epoch\n",
    "\n",
    "\t\"\"\"\n",
    "\n",
    "\n",
    "\tdef __init__(self, eta=0.01, n_iter=10):\n",
    "\t\tself.eta = eta\n",
    "\t\tself.n_iter = n_iter\n",
    "\n",
    "\n",
    "\tdef fit(self, X, y):\n",
    "\t\t\"\"\"Fit training data.\n",
    "\n",
    "\t\tParameters\n",
    "\t\t___________\n",
    "\t\tX : {array-like}, shape = [n_samples, n_features]\n",
    "\t\t\tTraining vectors, where n_samples\n",
    "\t\t\tis the number of samples and\n",
    "\t\t\tn_features is the number of features\n",
    "\t\ty : array-like, shape = [n_samples]\n",
    "\t\t\tTarget values.\n",
    "\n",
    "\t\tReturns\n",
    "\t\t___________\n",
    "\t\tself : object\n",
    "\n",
    "\t\t\"\"\"\n",
    "\t\tself.w_ = np.zeros(1 + X.shape[1])\n",
    "\t\tself.errors_ = []\n",
    "\n",
    "\t\tfor _ in range(self.n_iter):\n",
    "\t\t\terrors = 0\n",
    "\t\t\tfor xi, target in zip(X, y):\n",
    "\t\t\t\tupdate = self.eta * (target - self.predict(xi))\n",
    "\t\t\t\tself.w_[1:] += update * xi\n",
    "\t\t\t\tself.w[0] += update\n",
    "\t\t\t\terrors += int(update != 0.0)\n",
    "\t\t\tself.errors_.append(errors)\n",
    "\t\treturn self\n",
    "\n",
    "\n",
    "\t\tdef net_input(self, X):\n",
    "\t\t\t\"\"\"Calculate net input\"\"\"\n",
    "\t\t\treturn np.dt(X, self.w_[1:]) + self.w_[0]\n",
    "\n",
    "\n",
    "\t\tdef predict(self, X):\n",
    "\t\t\t\"\"\"Return class label after unit step\"\"\"\n",
    "\t\t\treturn np.where(self.net_input(X) >= 0.0, 1, -1)\n"
   ]
  },
  {
   "cell_type": "code",
   "execution_count": null,
   "metadata": {
    "collapsed": true
   },
   "outputs": [],
   "source": []
  }
 ],
 "metadata": {
  "kernelspec": {
   "display_name": "Python 3",
   "language": "python",
   "name": "python3"
  },
  "language_info": {
   "codemirror_mode": {
    "name": "ipython",
    "version": 3
   },
   "file_extension": ".py",
   "mimetype": "text/x-python",
   "name": "python",
   "nbconvert_exporter": "python",
   "pygments_lexer": "ipython3",
   "version": "3.5.1"
  }
 },
 "nbformat": 4,
 "nbformat_minor": 0
}
